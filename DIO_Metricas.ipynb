{
  "nbformat": 4,
  "nbformat_minor": 0,
  "metadata": {
    "colab": {
      "provenance": []
    },
    "kernelspec": {
      "name": "python3",
      "display_name": "Python 3"
    }
  },
  "cells": [
    {
      "cell_type": "code",
      "metadata": {
        "id": "vvoErn_UScos"
      },
      "source": [
        "import pandas as pd\n",
        "import numpy as np\n",
        "from sklearn.svm import SVC\n",
        "import urllib.request as request\n",
        "import io\n",
        "from sklearn.metrics import confusion_matrix\n",
        "\n",
        "%matplotlib inline"
      ],
      "execution_count": 1,
      "outputs": []
    },
    {
      "cell_type": "markdown",
      "metadata": {
        "id": "guCrBkAQD2mK"
      },
      "source": [
        "# Classificação Multinomial e o reconhecimento de caracteres manuscritos.\n",
        "\n",
        "Reproduzido do material de  R. Jordan Crouser do Smith College (2016)\n",
        "\n",
        "A classificação multinomial extende o classificador SVM para situações em que mais de uma categoria de objetos aparece.\n",
        "\n",
        "Vamos usar um classificador destes para reconhecimento de caracteres manuscritos.\n",
        "Os dados serão do [Optical Recognition of Handwritten Digits Data Set](http://archive.ics.uci.edu/ml/datasets/optical+recognition+of+handwritten+digits) que contém imagens de dígitos de 0 a 9 manuscritos por voluntários.\n",
        "\n",
        "O código abaixo recupera os dados, já divididos em treinamento e validação"
      ]
    },
    {
      "cell_type": "code",
      "metadata": {
        "id": "g1vFvcIy32Yq",
        "colab": {
          "base_uri": "https://localhost:8080/"
        },
        "outputId": "fee9e72d-16ca-4464-bf61-420a24b8dcbe"
      },
      "source": [
        "!wget http://archive.ics.uci.edu/ml/machine-learning-databases/optdigits/optdigits.tra -O optdigits.tra\n",
        "!wget http://archive.ics.uci.edu/ml/machine-learning-databases/optdigits/optdigits.tes -O optdigits.tes"
      ],
      "execution_count": 2,
      "outputs": [
        {
          "output_type": "stream",
          "name": "stdout",
          "text": [
            "--2025-02-02 22:17:31--  http://archive.ics.uci.edu/ml/machine-learning-databases/optdigits/optdigits.tra\n",
            "Resolving archive.ics.uci.edu (archive.ics.uci.edu)... 128.195.10.252\n",
            "Connecting to archive.ics.uci.edu (archive.ics.uci.edu)|128.195.10.252|:80... connected.\n",
            "HTTP request sent, awaiting response... 200 OK\n",
            "Length: unspecified\n",
            "Saving to: ‘optdigits.tra’\n",
            "\n",
            "optdigits.tra           [  <=>               ] 550.43K  1.43MB/s    in 0.4s    \n",
            "\n",
            "2025-02-02 22:17:31 (1.43 MB/s) - ‘optdigits.tra’ saved [563639]\n",
            "\n",
            "--2025-02-02 22:17:31--  http://archive.ics.uci.edu/ml/machine-learning-databases/optdigits/optdigits.tes\n",
            "Resolving archive.ics.uci.edu (archive.ics.uci.edu)... 128.195.10.252\n",
            "Connecting to archive.ics.uci.edu (archive.ics.uci.edu)|128.195.10.252|:80... connected.\n",
            "HTTP request sent, awaiting response... 200 OK\n",
            "Length: unspecified\n",
            "Saving to: ‘optdigits.tes’\n",
            "\n",
            "optdigits.tes           [  <=>               ] 258.51K  1.02MB/s    in 0.2s    \n",
            "\n",
            "2025-02-02 22:17:32 (1.02 MB/s) - ‘optdigits.tes’ saved [264712]\n",
            "\n"
          ]
        }
      ]
    },
    {
      "cell_type": "markdown",
      "metadata": {
        "id": "kp3YhqiUFqaE"
      },
      "source": [
        "O código a seguir coloca os dados em dataframes."
      ]
    },
    {
      "cell_type": "code",
      "metadata": {
        "id": "fDTtBcLKEUUF"
      },
      "source": [
        "X_train = pd.read_csv('optdigits.tra', header=None)\n",
        "y_train = X_train[64]\n",
        "X_train = X_train.drop(X_train.columns[64], axis=1)\n",
        "\n",
        "X_test = pd.read_csv('optdigits.tes', header=None)\n",
        "y_test = X_test[64]\n",
        "X_test = X_test.drop(X_test.columns[64], axis=1)"
      ],
      "execution_count": 3,
      "outputs": []
    },
    {
      "cell_type": "markdown",
      "metadata": {
        "id": "aveTH99QGTdT"
      },
      "source": [
        "Podemos construir um classificador SVM linear multimodal para esta base:"
      ]
    },
    {
      "cell_type": "code",
      "metadata": {
        "id": "-aexNw0mGMRK",
        "colab": {
          "base_uri": "https://localhost:8080/"
        },
        "outputId": "74d77bc9-69d9-493f-b8f3-158169ef1890"
      },
      "source": [
        "svc = SVC(kernel='linear', C=1)\n",
        "svc.fit(X_train, y_train)\n",
        "# Mostra a matriz de confusão dos dados de treinamento\n",
        "cm = confusion_matrix(y_train, svc.predict(X_train))\n",
        "cm_df = pd.DataFrame(cm.T, index=svc.classes_, columns=svc.classes_)\n",
        "print(\"Matriz de confusão com dados de treinamento\")\n",
        "print(cm_df)"
      ],
      "execution_count": 4,
      "outputs": [
        {
          "output_type": "stream",
          "name": "stdout",
          "text": [
            "Matriz de confusão com dados de treinamento\n",
            "     0    1    2    3    4    5    6    7    8    9\n",
            "0  376    0    0    0    0    0    0    0    0    0\n",
            "1    0  389    0    0    0    0    0    0    0    0\n",
            "2    0    0  380    0    0    0    0    0    0    0\n",
            "3    0    0    0  389    0    0    0    0    0    0\n",
            "4    0    0    0    0  387    0    0    0    0    0\n",
            "5    0    0    0    0    0  376    0    0    0    0\n",
            "6    0    0    0    0    0    0  377    0    0    0\n",
            "7    0    0    0    0    0    0    0  387    0    0\n",
            "8    0    0    0    0    0    0    0    0  380    0\n",
            "9    0    0    0    0    0    0    0    0    0  382\n"
          ]
        }
      ]
    },
    {
      "cell_type": "code",
      "metadata": {
        "id": "oREE8Vr5O_5g",
        "colab": {
          "base_uri": "https://localhost:8080/"
        },
        "outputId": "ffbb9272-25fb-4c7b-8b55-1946d5c67002"
      },
      "source": [
        "cm = confusion_matrix(y_test, svc.predict(X_test))\n",
        "cm_df = pd.DataFrame(cm.T, index=svc.classes_, columns=svc.classes_)\n",
        "print(\"Matriz de confusão com dados de teste\")\n",
        "print(cm_df)"
      ],
      "execution_count": 5,
      "outputs": [
        {
          "output_type": "stream",
          "name": "stdout",
          "text": [
            "Matriz de confusão com dados de teste\n",
            "     0    1    2    3    4    5    6    7    8    9\n",
            "0  177    0    0    1    0    0    0    0    0    1\n",
            "1    0  178    7    0    0    0    0    0    9    0\n",
            "2    0    0  170    5    0    1    0    0    1    0\n",
            "3    0    0    0  171    0    0    0    0    5    4\n",
            "4    0    0    0    0  180    0    1    1    0    1\n",
            "5    1    0    0    2    0  180    0    7    2    3\n",
            "6    0    3    0    0    0    0  179    0    0    0\n",
            "7    0    0    0    2    0    0    0  165    0    0\n",
            "8    0    1    0    1    1    0    1    0  157    1\n",
            "9    0    0    0    1    0    1    0    6    0  170\n"
          ]
        }
      ]
    },
    {
      "cell_type": "markdown",
      "source": [
        "Por meio da matriz de confusão dos dados de teste, podem ser calculadas as métricas:\n",
        "\n",
        "\n",
        "*   Sensibilidade: $VP / (VP + FN)$\n",
        "*   Especificidade: $VN / (FP+VN)$\n",
        "*   Acurácia: $(VP+VN)/N$\n",
        "*   Precisão: $VP/(VP+FP)$\n",
        "*   F-Score: $(2*P*S)/(P+S)$\n",
        "\n"
      ],
      "metadata": {
        "id": "PiBAj4whpeLt"
      }
    },
    {
      "cell_type": "code",
      "source": [
        "VP = 0\n",
        "FN = 0\n",
        "VN = 0\n",
        "FP = 0\n",
        "N = 0\n",
        "\n",
        "for i in range(10):\n",
        "  for j in range(10):\n",
        "    if i == j:\n",
        "      VP += cm[i][j]\n",
        "    else:\n",
        "      if i < j:\n",
        "        FP += cm[i][j]\n",
        "      else:\n",
        "        FN += cm[i][j]\n",
        "    N += cm[i][i]\n",
        "sensibilidade = VP/(VP+FN)\n",
        "especificidade = VN/(FP+VN)\n",
        "acuracia = (VP+VN)/N\n",
        "precisao = VP/(VP+FP)\n",
        "f_score = (2*sensibilidade*precisao)/(sensibilidade+precisao)\n",
        "\n",
        "print(\"Sensibilidade: \",sensibilidade)\n",
        "print(\"Especificidade: \",especificidade)\n",
        "print(\"Acurácia: \",acuracia)\n",
        "print(\"Precisão: \",precisao)\n",
        "print(\"F-Score: \",f_score)"
      ],
      "metadata": {
        "colab": {
          "base_uri": "https://localhost:8080/"
        },
        "id": "baLGDIahppgt",
        "outputId": "4fa6ce5b-b7f1-4529-9f8a-3c3f3e2037c9"
      },
      "execution_count": 6,
      "outputs": [
        {
          "output_type": "stream",
          "name": "stdout",
          "text": [
            "Sensibilidade:  0.971862689926843\n",
            "Especificidade:  0.0\n",
            "Acurácia:  0.1\n",
            "Precisão:  0.9885518030910132\n",
            "F-Score:  0.9801362088535754\n"
          ]
        }
      ]
    }
  ]
}